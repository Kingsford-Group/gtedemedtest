{
 "cells": [
  {
   "cell_type": "code",
   "execution_count": 1,
   "id": "25300e0a",
   "metadata": {},
   "outputs": [],
   "source": [
    "import matplotlib.pyplot as plt\n",
    "import pandas as pd\n",
    "import os\n",
    "import numpy as np\n",
    "import seaborn as sns\n",
    "from scipy.stats import pearsonr,spearmanr\n",
    "\n",
    "from sklearn.linear_model import LinearRegression\n",
    "from sklearn.model_selection import cross_val_score\n",
    "from sklearn.metrics import mean_squared_error\n",
    "from sklearn.model_selection import KFold\n"
   ]
  },
  {
   "cell_type": "code",
   "execution_count": 2,
   "id": "73c2c016",
   "metadata": {},
   "outputs": [],
   "source": [
    "def read_obj(fname):\n",
    "    s = fname.split(\"/\")[-1].split(\".\")[0].split(\"_\")\n",
    "    for l in open(fname):\n",
    "            return float(l.rstrip(\"\\n\")), int(s[2]), int(s[3])\n",
    "        \n",
    "def read_sol_sol(fname):\n",
    "    s = fname.split(\"/\")[-1].split(\".\")[0].split(\"_\")\n",
    "    for l in open(fname):\n",
    "        if \"Obj\" in l:\n",
    "            return float(l.rstrip(\"\\n\").split()[-1]),int(s[2]), int(s[3])\n",
    "    print(fname)\n",
    "        \n",
    "def process_fname(fname):\n",
    "    s = fname.split(\".\")[0].split(\"_\")\n",
    "    return int(s[2]), int(s[3])\n",
    "\n",
    "\n",
    "def read_nohup(fname, best_obj):\n",
    "    \n",
    "    curr_fname = \"\"\n",
    "    flag=False\n",
    "    for line in open(fname):\n",
    "        if line[:4] == \"GTED\":\n",
    "            curr_fname = line.rstrip(\"\\n\")\n",
    "            flag = False\n",
    "            if \"pan\" not in line and \"hylobates\" not in line:\n",
    "                flag = True\n",
    "        try:\n",
    "            if flag:\n",
    "                iteration = int(line.rstrip().split()[0])\n",
    "                time = line.rstrip().split()[-1]\n",
    "    #             if iteration <= 100:\n",
    "                score = float(line.rstrip().split()[1])\n",
    "                if curr_fname != \"\":\n",
    "                    best_obj[curr_fname] = (score, iteration,time)\n",
    "        except:\n",
    "            continue\n",
    "    return best_obj"
   ]
  },
  {
   "cell_type": "code",
   "execution_count": 3,
   "id": "7f8c1582",
   "metadata": {},
   "outputs": [],
   "source": [
    "def get_emd(gteds_in):\n",
    "    emds = []\n",
    "    gteds = []\n",
    "    groups = []\n",
    "    for dist, i,j in gteds_in:\n",
    "        if i== 0 and j == 0:\n",
    "            emds.append(0)\n",
    "            gteds.append(0)\n",
    "        else:\n",
    "            emd = emd_dist.loc[(i,j)][\"dist\"]\n",
    "            if dist > emd:\n",
    "                print(dist, emd, i,j)\n",
    "                continue\n",
    "            gteds.append(dist/100)\n",
    "            emds.append(emd/100)\n",
    "            groups.append(i // 10 % 5)\n",
    "#             print(i)\n",
    "    print(\"Total number:\",len(emds))\n",
    "    return emds, gteds, groups"
   ]
  },
  {
   "cell_type": "code",
   "execution_count": 4,
   "id": "1f2da3d1",
   "metadata": {},
   "outputs": [],
   "source": [
    "def get_emd_bestobj(best_obj):\n",
    "    gteds = []\n",
    "    emds = []\n",
    "    idx1 = []\n",
    "    idx2 = []\n",
    "    groups = []\n",
    "    not_passed = []\n",
    "    for n in best_obj:\n",
    "        if n == \"\":\n",
    "            continue\n",
    "        i = int(n.split(\"_\")[2])\n",
    "        j = int(n.split(\"_\")[3])\n",
    "        emd = emd_dist.loc[(i,j)][\"dist\"]\n",
    "        dist = best_obj[n][0]\n",
    "        if dist > emd:\n",
    "#             print(dist, emd, i, j )\n",
    "            not_passed.append((i,j))\n",
    "            continue\n",
    "        gteds.append(dist/100)\n",
    "        emds.append(emd/100)\n",
    "        groups.append(i // 10 % 5)\n",
    "        idx1.append(i)\n",
    "        idx2.append(j)\n",
    "    print(\"Passed:\", len(emds))\n",
    "    print(\"Not passed:\",len(not_passed))\n",
    "    return emds, gteds, idx1, idx2, groups, not_passed"
   ]
  },
  {
   "cell_type": "code",
   "execution_count": 16,
   "id": "17b2aab4",
   "metadata": {},
   "outputs": [],
   "source": [
    "## fit slope to diameter and discrepancy\n",
    "def fit_sampled(df):\n",
    "    x = np.array(df[\"sum Diameter\"]).reshape(-1,1)\n",
    "    y = df[\"(EMED - FGTED)\"].to_numpy()\n",
    "    \n",
    "    fitted = LinearRegression().fit(x,y)\n",
    "    coeff = fitted.coef_\n",
    "    offset = fitted.intercept_\n",
    "    return coeff, offset, fitted.score(x,y)"
   ]
  },
  {
   "cell_type": "code",
   "execution_count": 70,
   "id": "fc19cfa2",
   "metadata": {},
   "outputs": [],
   "source": [
    "def k_fold_cross_val (gted_df, k=10):\n",
    "    \n",
    "    y = gted_df[\"(EMED - FGTED)\"].astype(float).to_numpy()\n",
    "    y_emed = gted_df[\"EMED\"].astype(float).to_numpy()\n",
    "    x_fgted = gted_df[\"FGTED\"].astype(float).to_numpy()\n",
    "    x = gted_df[\"sum Diameter\"].astype(float).to_numpy()\n",
    "    x = np.array(x).reshape(-1,1)\n",
    "    \n",
    "    mse = []\n",
    "    corr = []\n",
    "    prev_mse = []\n",
    "    prev_corr = []\n",
    "    kf = KFold(n_splits=k)\n",
    "    for train_index, test_index in kf.split(x):\n",
    "        x_train, x_test = x[train_index], x[test_index]\n",
    "        y_train, y_test = y[train_index], y[test_index]    \n",
    "        fgted_test = x_fgted[test_index]\n",
    "        emed_test = y_emed[test_index]\n",
    "        reg = LinearRegression().fit(x_train, y_train)\n",
    "        y_pred = reg.predict(x_test)\n",
    "        m = np.mean([abs(a-b) for a,b in zip(emed_test, fgted_test + y_pred)])\n",
    "        pm = np.mean([abs(a-b) for a,b in zip(emed_test, fgted_test)])\n",
    "#         print(m,pm, reg.score(x_train, y_train))\n",
    "        mse.append(m)\n",
    "        prev_mse.append(pm)\n",
    "        \n",
    "        c = pearsonr(emed_test, fgted_test+y_pred)\n",
    "        prev_c = pearsonr(emed_test, fgted_test)\n",
    "        print(c, prev_c)\n",
    "        corr.append(c[0])\n",
    "        prev_corr.append(prev_c[0])\n",
    "        \n",
    "    # print(mse)\n",
    "    print(\"Mean abs deviation: %f\" % np.mean(mse))\n",
    "    print(\"Mean prev abs deviation: %f\" % np.mean(prev_mse))\n",
    "    print(\"Mean correlation: %f\" % np.mean(corr))    \n",
    "    print(\"Mean prev correlation: %f\" % np.mean(prev_corr))    "
   ]
  },
  {
   "cell_type": "code",
   "execution_count": 5,
   "id": "176ff047",
   "metadata": {},
   "outputs": [],
   "source": [
    "\n",
    "## Read all nohup files that contain gurobi output\n",
    "best_obj = dict()\n",
    "nohup_dir = \"HBV_fgted_logs\"\n",
    "for f in os.listdir(nohup_dir):\n",
    "    best_obj = read_nohup(f, best_obj)"
   ]
  },
  {
   "cell_type": "code",
   "execution_count": 7,
   "id": "e57bbd06",
   "metadata": {},
   "outputs": [],
   "source": [
    "dictt={\"human\":0,\"bat\":1,\"duck\":2}\n",
    "matrix_gted = [[[] for i in range(3)] for j in range(3)]\n",
    "matrix_emed = [[[] for i in range(3)] for j in range(3)]"
   ]
  },
  {
   "cell_type": "code",
   "execution_count": 8,
   "id": "eca40ac9",
   "metadata": {},
   "outputs": [],
   "source": [
    "## read computed EMED\n",
    "emed_df = pd.read_csv(\"HBV_all_EMED.csv\").set_index([\"first\",\"second\"])"
   ]
  },
  {
   "cell_type": "code",
   "execution_count": 9,
   "id": "e221624e",
   "metadata": {},
   "outputs": [
    {
     "name": "stdout",
     "output_type": "stream",
     "text": [
      "9\n"
     ]
    }
   ],
   "source": [
    "# read sample diameter\n",
    "diameter_file = \"HBV_sampled_diameters.txt\"\n",
    "diameter_df = pd.read_csv(diameter_file, sep=\" \").set_index(\"Graphidx\")\n",
    "print(len(diameter_df.index))"
   ]
  },
  {
   "cell_type": "code",
   "execution_count": 11,
   "id": "b46ad350",
   "metadata": {},
   "outputs": [],
   "source": [
    "first = []\n",
    "second = []\n",
    "gted = []\n",
    "emeds = []\n",
    "same = []\n",
    "kinds = []\n",
    "sum_diameters = []\n",
    "for k in best_obj:\n",
    "    if \"pan\" not in k and \"hylobates\" not in k:\n",
    "        key1 = k.split(\"_\")[2]+\"_\"+k.split(\"_\")[3]\n",
    "        key2 = k.split(\"_\")[4]+\"_\"+k.split(\"_\")[5]\n",
    "        emed = emed_df.loc[(key1,key2), \"dists\"]\n",
    "\n",
    "        if int(best_obj[k][2][:-1]) < 20000:\n",
    "            first.append(key1)\n",
    "            second.append(key2)\n",
    "            gted.append(best_obj[k][0]/100)\n",
    "            emeds.append(emed/100)\n",
    "            kinds.append(\",\".join(sorted((k.split(\"_\")[2], k.split(\"_\")[4]))))\n",
    "            try:\n",
    "                sum_diameters.append(diameter_df.loc[key1,\"Diameter\"] + diameter_df.loc[key2,\"Diameter\"])\n",
    "            except:\n",
    "                sum_diameters.append(0)\n",
    "\n",
    "gted_emed_df = pd.DataFrame(np.array([first, second, gted, emeds,kinds, sum_diameters]).T, columns = [\"spc1\",\"spc2\",\"FGTED\", \"EMED\", \"Species Pair\", \"sum Diameter\"])"
   ]
  },
  {
   "cell_type": "code",
   "execution_count": 15,
   "id": "562d811a",
   "metadata": {},
   "outputs": [],
   "source": [
    "gted_emed_df[\"(EMED - FGTED)\"] = gted_emed_df[\"EMED\"].astype(\"float\") - gted_emed_df[\"FGTED\"].astype(\"float\")\n",
    "gted_emed_df.loc[:,\"EMED\"] = gted_emed_df[\"EMED\"].astype(float)\n",
    "gted_emed_df.loc[:,\"FGTED\"] = gted_emed_df[\"FGTED\"].astype(float)\n",
    "gted_emed_df.loc[:,\"sum Diameter\"] = gted_emed_df[\"sum Diameter\"].astype(float)/100"
   ]
  },
  {
   "cell_type": "code",
   "execution_count": 17,
   "id": "9242a7a2",
   "metadata": {},
   "outputs": [
    {
     "name": "stdout",
     "output_type": "stream",
     "text": [
      "Fitted slope: 0.042892, fitted offset: 108.897972, R^2: 0.016565\n"
     ]
    }
   ],
   "source": [
    "coef, intercept, r = fit_sampled(gted_emed_df)\n",
    "gted_emed_df[\"corrected FGTED\"] = gted_emed_df[\"FGTED\"] + coef * gted_emed_df[\"sum Diameter\"] + intercept\n",
    "print(\"Fitted slope: %f, fitted offset: %f, R^2: %f\" % (coef, intercept,r))    "
   ]
  },
  {
   "cell_type": "code",
   "execution_count": 78,
   "id": "93da769e",
   "metadata": {},
   "outputs": [
    {
     "name": "stdout",
     "output_type": "stream",
     "text": [
      "(0.8721966702529994, 2.9179791394581457e-36) (0.6772666741729454, 1.7756809424503987e-16)\n",
      "(0.9259658565775662, 2.4403627490030602e-48) (0.8096297423342453, 3.2759745983927565e-27)\n",
      "Mean abs deviation: 8.495127\n",
      "Mean prev abs deviation: 32.703612\n",
      "Mean correlation: 0.899081\n",
      "Mean prev correlation: 0.743448\n"
     ]
    }
   ],
   "source": [
    "k_fold_cross_val(gted_df, k=10)"
   ]
  },
  {
   "cell_type": "markdown",
   "id": "14ecc4bc",
   "metadata": {},
   "source": [
    "## For TCR"
   ]
  },
  {
   "cell_type": "code",
   "execution_count": 21,
   "id": "21a8287a",
   "metadata": {},
   "outputs": [],
   "source": [
    "emd_dist = pd.read_csv(\"TCR_all_EMED.csv\")\n",
    "emd_dist = emd_dist.set_index([\"set1\",\"set2\"])"
   ]
  },
  {
   "cell_type": "code",
   "execution_count": 22,
   "id": "dada81ff",
   "metadata": {},
   "outputs": [],
   "source": [
    "nohup_dir1 = \"TCR_fgted_logs/\"\n",
    "\n",
    "best_obj1 = dict()\n",
    "nohups = [f for f in os.listdir(nohup_dir1) if \".out\" in f]\n",
    "for f in nohups:\n",
    "    nohup_fname = nohup_dir1 + f\n",
    "    best_obj1 = read_nohup(nohup_fname, best_obj1)"
   ]
  },
  {
   "cell_type": "code",
   "execution_count": 23,
   "id": "76188139",
   "metadata": {},
   "outputs": [
    {
     "name": "stdout",
     "output_type": "stream",
     "text": [
      "Passed: 225\n",
      "Not passed: 0\n"
     ]
    }
   ],
   "source": [
    "emds1, gteds1, idx1, idx2, groups1, not_passed1 = get_emd_bestobj(best_obj1)"
   ]
  },
  {
   "cell_type": "code",
   "execution_count": 24,
   "id": "05082213",
   "metadata": {},
   "outputs": [],
   "source": [
    "pl = sns.color_palette(\"viridis\")"
   ]
  },
  {
   "cell_type": "code",
   "execution_count": 25,
   "id": "fc101912",
   "metadata": {},
   "outputs": [],
   "source": [
    "gted_df = pd.DataFrame(np.array([emds1, gteds1, idx1, idx2, groups1]).T, columns=[\"EMED\", \"FGTED\", \"idx1\", \"idx2\",\"Group\"])\n",
    "gted_df[\"(EMED - FGTED)\"] = (gted_df[\"EMED\"] - gted_df[\"FGTED\"])"
   ]
  },
  {
   "cell_type": "code",
   "execution_count": 27,
   "id": "e39c7a63",
   "metadata": {},
   "outputs": [],
   "source": [
    "diameter_df = pd.read_csv(\"TCR_sampled_diameters.txt\", sep=\"\\t\")\n",
    "diameter_df = diameter_df.set_index(\"Graph idx\")"
   ]
  },
  {
   "cell_type": "code",
   "execution_count": 28,
   "id": "cb7743e8",
   "metadata": {},
   "outputs": [],
   "source": [
    "gted_df = gted_df.set_index([\"idx1\",\"idx2\"])"
   ]
  },
  {
   "cell_type": "code",
   "execution_count": 29,
   "id": "bb1d0ae6",
   "metadata": {},
   "outputs": [],
   "source": [
    "sum_diameters = []\n",
    "for i,j in gted_df.index:\n",
    "    sum_dia = diameter_df.loc[i][\"Diameter\"] + diameter_df.loc[j][\"Diameter\"]\n",
    "    sum_diameters.append(sum_dia/100)"
   ]
  },
  {
   "cell_type": "code",
   "execution_count": 31,
   "id": "85ba39f1",
   "metadata": {},
   "outputs": [],
   "source": [
    "gted_df[\"sum Diameter\"] = sum_diameters"
   ]
  },
  {
   "cell_type": "code",
   "execution_count": 32,
   "id": "eeed60fd",
   "metadata": {},
   "outputs": [
    {
     "name": "stdout",
     "output_type": "stream",
     "text": [
      "[0.29860373] -18.490028387620853 0.5034441177662589\n"
     ]
    }
   ],
   "source": [
    "coeff, offset,r = fit_sampled(gted_df)\n",
    "print(coeff, offset,r)\n",
    "gted_df[\"corrected\"] = gted_df[\"FGTED\"] + gted_df[\"sum Diameter\"] * coeff + offset"
   ]
  },
  {
   "cell_type": "code",
   "execution_count": 33,
   "id": "853b8e96",
   "metadata": {},
   "outputs": [
    {
     "name": "stdout",
     "output_type": "stream",
     "text": [
      "6.051272043416008 26.5270772173913 0.5013556494170066\n",
      "6.625871023032454 36.993715869565214 0.4968850141196284\n",
      "5.175998139084913 31.329827391304345 0.49875607796252386\n",
      "9.243393812011254 45.01914243478261 0.4432482827062709\n",
      "11.768640566977986 14.958235782608693 0.50632141317802\n",
      "21.700493506213455 15.976847863636362 0.6529166291064596\n",
      "5.2409343891036855 33.232969 0.5050806640018418\n",
      "9.009671468980564 47.518503954545444 0.45827785847889957\n",
      "8.994370788593564 30.921648818181822 0.5059914159432888\n",
      "7.455831422027129 44.88777713636364 0.47802536243574284\n",
      "Mean abs deviation: 9.126648\n",
      "Mean prev abs deviation: 32.736575\n"
     ]
    }
   ],
   "source": [
    "k_fold_cross_val(gted_df, k=10)"
   ]
  },
  {
   "cell_type": "markdown",
   "id": "be56561e",
   "metadata": {},
   "source": [
    "## Plots"
   ]
  },
  {
   "cell_type": "code",
   "execution_count": null,
   "metadata": {},
   "outputs": [],
   "source": [
    "# sample half of hbv, fit LR, test on the other half\n",
    "hbv_sampled_df = gted_emed_df.sample(frac=0.5)\n",
    "hbv_test_df = gted_emed_df.drop(hbv_sampled_df.index)\n",
    "\n",
    "coef, intercept, r = fit_sampled(hbv_sampled_df)\n",
    "hbv_test_df[\"corrected FGTED\"] = hbv_test_df[\"FGTED\"] + coef * hbv_test_df[\"sum Diameter\"] + intercept\n",
    "print(r)"
   ]
  },
  {
   "cell_type": "code",
   "execution_count": 62,
   "id": "54a55bdc",
   "metadata": {},
   "outputs": [
    {
     "output_type": "error",
     "ename": "Error",
     "evalue": "IPyKernel not installed into interpreter Python 3.9.1 64-bit:/opt/local/bin/python3.9",
     "traceback": [
      "Error: IPyKernel not installed into interpreter Python 3.9.1 64-bit:/opt/local/bin/python3.9",
      "at L.installDependenciesIntoInterpreter (/home/yutongq/.vscode-server/extensions/ms-toolsai.jupyter-2021.2.576440691/out/client/extension.js:1:223133)",
      "at processTicksAndRejections (internal/process/task_queues.js:94:5)",
      "at async L.getKernelForLocalRawConnection (/home/yutongq/.vscode-server/extensions/ms-toolsai.jupyter-2021.2.576440691/out/client/extension.js:1:221960)"
     ]
    }
   ],
   "source": [
    "# sample half of tcr, fit LR, test on the other half\n",
    "tcr_sampled_df = gted_df.sample(frac=0.5)\n",
    "tcr_test_df = gted_df.drop(tcr_sampled_df.index)\n",
    "\n",
    "coef, intercept, r = fit_sampled(tcr_sampled_df)\n",
    "tcr_test_df[\"corrected FGTED\"] = tcr_test_df[\"FGTED\"] + coef * tcr_test_df[\"sum Diameter\"] + intercept\n",
    "print(r)"
   ]
  },
  {
   "cell_type": "code",
   "execution_count": 63,
   "id": "2b994881",
   "metadata": {},
   "outputs": [
    {
     "data": {
      "text/plain": [
       "9.061355321869005"
      ]
     },
     "execution_count": 63,
     "metadata": {},
     "output_type": "execute_result"
    }
   ],
   "source": [
    "np.mean(abs(tcr_test_df[\"corrected FGTED\"] - tcr_test_df[\"EMED\"]))"
   ]
  },
  {
   "cell_type": "code",
   "execution_count": 64,
   "id": "a02a99e2",
   "metadata": {},
   "outputs": [
    {
     "data": {
      "text/plain": [
       "53.209706763893905"
      ]
     },
     "execution_count": 64,
     "metadata": {},
     "output_type": "execute_result"
    }
   ],
   "source": [
    "np.mean(abs(hbv_test_df[\"corrected FGTED\"] - hbv_test_df[\"EMED\"]))"
   ]
  },
  {
   "cell_type": "code",
   "execution_count": 67,
   "id": "88f18d8b",
   "metadata": {},
   "outputs": [
    {
     "data": {
      "image/png": "[encoded data removed]",
      "text/plain": [
       "<Figure size 432x576 with 2 Axes>"
      ]
     },
     "metadata": {},
     "output_type": "display_data"
    }
   ],
   "source": [
    "fig, axes = plt.subplots(2,1)\n",
    "\n",
    "sns.set(font_scale=1)\n",
    "sns.set_style(\"ticks\",)\n",
    "orange = (0.87, 0.52, 0.32)\n",
    "\n",
    "\n",
    "minmax = [min(tcr_test_df[\"EMED\"])-10, max(tcr_test_df[\"EMED\"])+5]\n",
    "sns.lineplot(x=minmax,y=minmax,color=\"grey\", ax=axes[0], linewidth=1,legend=True)\n",
    "sns.scatterplot(data=tcr_test_df, x=\"EMED\", y=\"FGTED\",label=\"Uncorrected\", legend=True, ax=axes[0])\n",
    "sns.scatterplot(data=tcr_test_df, x=\"EMED\", y=\"corrected\", label=\"Corrected\", legend=True, ax=axes[0])\n",
    "\n",
    "minmax = [0, max(hbv_test_df[\"EMED\"])+100]\n",
    "sns.lineplot(x=minmax,y=minmax,color=\"grey\", ax=axes[1], linewidth=1,legend=False)\n",
    "a = sns.scatterplot(data=hbv_test_df, x=\"EMED\", y=\"FGTED\",ax=axes[1],hue=\"size\",s=70,legend=False,label=\"Uncorrected\")\n",
    "c = sns.scatterplot(data=hbv_test_df, x=\"EMED\", y=\"corrected FGTED\",label=\"Corrected\",legend=False,ax = axes[1],s=70,palette=[orange],hue=\"size2\")\n",
    "\n",
    "# aa = axes[1].legend_.texts[1]\n",
    "# bb = axes[1].legend_.legendHandles\n",
    "axes[0].legend(bbox_to_anchor=(0.5, 1.25),loc='upper center', ncol=2)\n",
    "# axes[1].legend(bb,aa, ncol=2,bbox_to_anchor=(0.5, 1.25),loc='upper center')\n",
    "\n",
    "\n",
    "axes[0].set_title(\"(a)\")\n",
    "axes[1].set_title(\"(b)\")\n",
    "\n",
    "axes[0].grid()\n",
    "axes[1].grid()\n",
    "\n",
    "fig.set_size_inches(6,8)\n",
    "fig.tight_layout()\n",
    "\n",
    "fig.savefig(\"GTED_EMED.pdf\")"
   ]
  },
  {
   "cell_type": "code",
   "execution_count": null,
   "id": "0dcd0296",
   "metadata": {},
   "outputs": [],
   "source": []
  },
  {
   "cell_type": "code",
   "execution_count": null,
   "id": "e8dbb624",
   "metadata": {},
   "outputs": [],
   "source": []
  }
 ],
 "metadata": {
  "kernelspec": {
   "display_name": "Python 3",
   "language": "python",
   "name": "python3"
  },
  "language_info": {
   "codemirror_mode": {
    "name": "ipython",
    "version": 3
   },
   "file_extension": ".py",
   "mimetype": "text/x-python",
   "name": "python",
   "nbconvert_exporter": "python",
   "pygments_lexer": "ipython3",
   "version": "3.6.7"
  }
 },
 "nbformat": 4,
 "nbformat_minor": 5
}